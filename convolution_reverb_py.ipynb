{
  "nbformat": 4,
  "nbformat_minor": 0,
  "metadata": {
    "colab": {
      "name": "Untitled9.ipynb",
      "provenance": [],
      "authorship_tag": "ABX9TyNZuXR5NrO6CSrqKhHEfL/s"
    },
    "kernelspec": {
      "name": "python3",
      "display_name": "Python 3"
    },
    "language_info": {
      "name": "python"
    }
  },
  "cells": [
    {
      "cell_type": "code",
      "execution_count": 3,
      "metadata": {
        "colab": {
          "base_uri": "https://localhost:8080/"
        },
        "id": "sc6r8-KTuRsd",
        "outputId": "9be68cb2-9247-4e8e-df1e-1b1c90f0b62a"
      },
      "outputs": [
        {
          "output_type": "stream",
          "name": "stdout",
          "text": [
            "Mounted at /content/drive\n"
          ]
        }
      ],
      "source": [
        "from google.colab import drive\n",
        "drive.mount('/content/drive')\n"
      ]
    },
    {
      "cell_type": "code",
      "source": [
        "ls"
      ],
      "metadata": {
        "id": "9bHoyl3Juz-X"
      },
      "execution_count": null,
      "outputs": []
    },
    {
      "cell_type": "code",
      "source": [
        "cd drive\n"
      ],
      "metadata": {
        "colab": {
          "base_uri": "https://localhost:8080/"
        },
        "id": "BhSly0CUuqL6",
        "outputId": "4201df85-4428-4beb-c644-06414b96eea4"
      },
      "execution_count": 2,
      "outputs": [
        {
          "output_type": "stream",
          "name": "stdout",
          "text": [
            "/content/drive\n"
          ]
        }
      ]
    },
    {
      "cell_type": "code",
      "source": [
        "cd MyDrive"
      ],
      "metadata": {
        "colab": {
          "base_uri": "https://localhost:8080/"
        },
        "id": "s-tTQfE3u7S6",
        "outputId": "68b980b5-1e56-409a-9851-625887a12db3"
      },
      "execution_count": 3,
      "outputs": [
        {
          "output_type": "stream",
          "name": "stdout",
          "text": [
            "/content/drive/MyDrive\n"
          ]
        }
      ]
    },
    {
      "cell_type": "code",
      "source": [
        "import soundfile as sf\n",
        "import matplotlib.pyplot as plt\n",
        "from scipy.signal import convolve\n",
        "import numpy as np\n",
        "\n"
      ],
      "metadata": {
        "id": "gbV81Mqfugw5"
      },
      "execution_count": 4,
      "outputs": []
    },
    {
      "cell_type": "code",
      "source": [
        "#load the impulse response (IR)\n",
        "#and the song\n",
        "\n",
        "IR, samplerateIR = sf.read('Vocal Duo.wav')\n",
        "song, samplerate = sf.read('stateofmind.wav')\n",
        "\n",
        "convolution=convolve(song,IR,mode='full') \n",
        "\n",
        "for i in range(len(song[0,:])+1): #normalize the song\n",
        "  convolution[:,i]=convolution[:,i]/max(convolution[:,i])\n",
        "\n"
      ],
      "metadata": {
        "id": "TsQBf9ILukdB"
      },
      "execution_count": 26,
      "outputs": []
    },
    {
      "cell_type": "code",
      "source": [
        "song_pad = np.zeros(convolution[:,0:2].shape)\n",
        "for i in range(len(song[0,:])):\n",
        "  song_pad[0:len(song)]=song"
      ],
      "metadata": {
        "id": "VF95NFip0l8K"
      },
      "execution_count": 27,
      "outputs": []
    },
    {
      "cell_type": "code",
      "source": [
        "final = 0.5*song_pad+0.5*convolution[:,0:2]"
      ],
      "metadata": {
        "id": "9OcXhhjtvT8S"
      },
      "execution_count": 23,
      "outputs": []
    },
    {
      "cell_type": "code",
      "source": [
        "sf.write('vox_IR.wav',final,samplerate=44100)"
      ],
      "metadata": {
        "id": "63wC9mNVukpw"
      },
      "execution_count": 24,
      "outputs": []
    },
    {
      "cell_type": "code",
      "source": [
        ""
      ],
      "metadata": {
        "id": "4JVWc0WqOABX"
      },
      "execution_count": null,
      "outputs": []
    }
  ]
}